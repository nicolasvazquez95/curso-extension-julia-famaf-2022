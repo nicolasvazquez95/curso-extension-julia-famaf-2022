{
 "cells": [
  {
   "cell_type": "markdown",
   "id": "89f2f05b-5b83-429b-b840-22c903c3c32a",
   "metadata": {},
   "source": [
    "Vamos a cubrir `String, Tuple, NamedTuple, UnitRange, Arrays, Pair, Dict, Symbol`."
   ]
  },
  {
   "cell_type": "markdown",
   "id": "bdbcd4a2-9ba9-4b24-868f-443e5f835950",
   "metadata": {},
   "source": [
    "***Operadores de broadcasting y funciones***"
   ]
  },
  {
   "cell_type": "code",
   "execution_count": 1,
   "id": "d5c1eb10-a8bc-4d0c-809c-b5e4466ae3b5",
   "metadata": {},
   "outputs": [
    {
     "data": {
      "text/plain": [
       "3-element Vector{Int64}:\n",
       " 2\n",
       " 3\n",
       " 4"
      ]
     },
     "execution_count": 1,
     "metadata": {},
     "output_type": "execute_result"
    }
   ],
   "source": [
    "[1, 2, 3] .+ 1"
   ]
  },
  {
   "cell_type": "code",
   "execution_count": 7,
   "id": "c4b7591a-d9e4-419a-9ae8-21f0c9b2ca8a",
   "metadata": {},
   "outputs": [
    {
     "data": {
      "text/plain": [
       "3-element Vector{Float64}:\n",
       " Inf\n",
       "  3.3219280948873626\n",
       "  2.095903274289385"
      ]
     },
     "execution_count": 7,
     "metadata": {},
     "output_type": "execute_result"
    }
   ],
   "source": [
    "# Funciona automáticamente con funciones\n",
    "log.([1, 2, 3],10)"
   ]
  },
  {
   "cell_type": "markdown",
   "id": "5ded8f22-844a-4009-a19c-012e29b2ce07",
   "metadata": {},
   "source": [
    "Es una convención en Julia agregar un `!` a los nombres de funciones que modifican uno o más de sus argumentos. "
   ]
  },
  {
   "cell_type": "code",
   "execution_count": 8,
   "id": "b43f8137-3ad0-4525-b6a5-844bd184a324",
   "metadata": {},
   "outputs": [
    {
     "data": {
      "text/plain": [
       "add_one! (generic function with 1 method)"
      ]
     },
     "execution_count": 8,
     "metadata": {},
     "output_type": "execute_result"
    }
   ],
   "source": [
    "function add_one!(V)\n",
    "    for i in eachindex(V)\n",
    "        V[i] += 1\n",
    "    end\n",
    "    return nothing\n",
    "end"
   ]
  },
  {
   "cell_type": "code",
   "execution_count": 9,
   "id": "55bceac6-2721-4e1f-b9e0-cdee72ce24c2",
   "metadata": {},
   "outputs": [],
   "source": [
    "my_data = [1, 2, 3]\n",
    "add_one!(my_data)"
   ]
  },
  {
   "cell_type": "code",
   "execution_count": 10,
   "id": "1eb2724e-d115-4fe1-ba0c-f1d3f84c3578",
   "metadata": {},
   "outputs": [
    {
     "data": {
      "text/plain": [
       "3-element Vector{Int64}:\n",
       " 2\n",
       " 3\n",
       " 4"
      ]
     },
     "execution_count": 10,
     "metadata": {},
     "output_type": "execute_result"
    }
   ],
   "source": [
    "my_data"
   ]
  },
  {
   "cell_type": "markdown",
   "id": "e5bdceb8-6b5f-454e-9f22-4334c419051e",
   "metadata": {},
   "source": [
    "***String***"
   ]
  },
  {
   "cell_type": "code",
   "execution_count": 11,
   "id": "b38df3da-5de4-4bb8-8732-9c69872c96ff",
   "metadata": {},
   "outputs": [
    {
     "data": {
      "text/plain": [
       "String"
      ]
     },
     "execution_count": 11,
     "metadata": {},
     "output_type": "execute_result"
    }
   ],
   "source": [
    "typeof(\"This is a string\")"
   ]
  },
  {
   "cell_type": "code",
   "execution_count": 15,
   "id": "b5de1b60-019a-43ea-8eaf-43a38e162a7e",
   "metadata": {},
   "outputs": [
    {
     "data": {
      "text/plain": [
       "\"This is a big multiline string with a nested \\\"quotation\\\".\\nAs you can see.\\nIt is still a String to Julia\\n\""
      ]
     },
     "execution_count": 15,
     "metadata": {},
     "output_type": "execute_result"
    }
   ],
   "source": [
    "text = \"\"\"\n",
    "        This is a big multiline string with a nested \"quotation\".\n",
    "        As you can see.\n",
    "        It is still a String to Julia\n",
    "        \"\"\""
   ]
  },
  {
   "cell_type": "markdown",
   "id": "50c0f87b-1c24-48fe-8c3d-3be794926979",
   "metadata": {},
   "source": [
    "***Concatenación de strings***"
   ]
  },
  {
   "cell_type": "code",
   "execution_count": 20,
   "id": "2728caae-e5d1-4f2e-8d53-5bc1591bcbd4",
   "metadata": {},
   "outputs": [
    {
     "data": {
      "text/plain": [
       "\"Hello Goodbye\""
      ]
     },
     "execution_count": 20,
     "metadata": {},
     "output_type": "execute_result"
    }
   ],
   "source": [
    "hello = \"Hello\"\n",
    "goodbye = \"Goodbye\"\n",
    "hello * \" \" * goodbye"
   ]
  },
  {
   "cell_type": "code",
   "execution_count": 21,
   "id": "f32e68db-ca32-44bc-b97f-6fe4e2c78ca7",
   "metadata": {},
   "outputs": [
    {
     "data": {
      "text/plain": [
       "\"Hello Goodbye\""
      ]
     },
     "execution_count": 21,
     "metadata": {},
     "output_type": "execute_result"
    }
   ],
   "source": [
    "# Esto es equivalente a\n",
    "join([hello, goodbye],\" \")"
   ]
  },
  {
   "cell_type": "markdown",
   "id": "d66bb0c5-138c-47d0-8827-069f85f9715b",
   "metadata": {},
   "source": [
    "***Interpolación de strings***"
   ]
  },
  {
   "cell_type": "code",
   "execution_count": 22,
   "id": "cdd38936-7054-4e9d-969d-dcae4ca802e3",
   "metadata": {},
   "outputs": [
    {
     "data": {
      "text/plain": [
       "test_interpolated (generic function with 1 method)"
      ]
     },
     "execution_count": 22,
     "metadata": {},
     "output_type": "execute_result"
    }
   ],
   "source": [
    "function test_interpolated(a,b)\n",
    "    if a < b\n",
    "        \"$a is less than $b\"\n",
    "    elseif a > b \n",
    "        \"$a is greater than $b\"\n",
    "    else\n",
    "        \"$a is equal to $b\"\n",
    "    end\n",
    "end    "
   ]
  },
  {
   "cell_type": "code",
   "execution_count": 24,
   "id": "fbdda71c-71c5-4d9d-9a0c-25990f5fc964",
   "metadata": {},
   "outputs": [
    {
     "data": {
      "text/plain": [
       "\"3.14 is equal to 3.14\""
      ]
     },
     "execution_count": 24,
     "metadata": {},
     "output_type": "execute_result"
    }
   ],
   "source": [
    "test_interpolated(3.14,3.14)"
   ]
  },
  {
   "cell_type": "markdown",
   "id": "76399938-758f-4697-aaba-a13dc873079a",
   "metadata": {},
   "source": [
    "***Manipulación de strings***"
   ]
  },
  {
   "cell_type": "code",
   "execution_count": 25,
   "id": "2d8db744-fa80-4065-af11-6cac9500d717",
   "metadata": {},
   "outputs": [
    {
     "data": {
      "text/plain": [
       "\"Julia is an amazing open source programming language\""
      ]
     },
     "execution_count": 25,
     "metadata": {},
     "output_type": "execute_result"
    }
   ],
   "source": [
    "julia_string = \"Julia is an amazing open source programming language\""
   ]
  },
  {
   "cell_type": "code",
   "execution_count": 26,
   "id": "ec1dcc14-aa08-47b0-9e8f-fb74213b4752",
   "metadata": {},
   "outputs": [
    {
     "data": {
      "text/plain": [
       "true"
      ]
     },
     "execution_count": 26,
     "metadata": {},
     "output_type": "execute_result"
    }
   ],
   "source": [
    "contains(julia_string, \"Julia\")"
   ]
  },
  {
   "cell_type": "code",
   "execution_count": 27,
   "id": "b998856e-3419-4343-9d34-abd55039d22e",
   "metadata": {},
   "outputs": [
    {
     "data": {
      "text/plain": [
       "true"
      ]
     },
     "execution_count": 27,
     "metadata": {},
     "output_type": "execute_result"
    }
   ],
   "source": [
    "startswith(julia_string, \"Julia\")"
   ]
  },
  {
   "cell_type": "code",
   "execution_count": 28,
   "id": "44bc9b15-d104-42b0-8938-9411f79cb4c7",
   "metadata": {},
   "outputs": [
    {
     "data": {
      "text/plain": [
       "false"
      ]
     },
     "execution_count": 28,
     "metadata": {},
     "output_type": "execute_result"
    }
   ],
   "source": [
    "endswith(julia_string, \"Julia\")"
   ]
  },
  {
   "cell_type": "code",
   "execution_count": 29,
   "id": "5735ba74-f12b-40b8-9902-b1cda2e17992",
   "metadata": {},
   "outputs": [
    {
     "data": {
      "text/plain": [
       "\"julia is an amazing open source programming language\""
      ]
     },
     "execution_count": 29,
     "metadata": {},
     "output_type": "execute_result"
    }
   ],
   "source": [
    "lowercase(julia_string)"
   ]
  },
  {
   "cell_type": "code",
   "execution_count": 30,
   "id": "29683364-2c7d-4ad3-9a9b-4952c8d811db",
   "metadata": {},
   "outputs": [
    {
     "data": {
      "text/plain": [
       "\"JULIA IS AN AMAZING OPEN SOURCE PROGRAMMING LANGUAGE\""
      ]
     },
     "execution_count": 30,
     "metadata": {},
     "output_type": "execute_result"
    }
   ],
   "source": [
    "uppercase(julia_string)"
   ]
  },
  {
   "cell_type": "code",
   "execution_count": 31,
   "id": "80a7ec41-ae2f-4c62-a9e3-742110b4d4df",
   "metadata": {},
   "outputs": [
    {
     "data": {
      "text/plain": [
       "\"Julia Is An Amazing Open Source Programming Language\""
      ]
     },
     "execution_count": 31,
     "metadata": {},
     "output_type": "execute_result"
    }
   ],
   "source": [
    "titlecase(julia_string)"
   ]
  },
  {
   "cell_type": "code",
   "execution_count": 32,
   "id": "63e77154-df20-49f2-88be-475cff86989e",
   "metadata": {},
   "outputs": [
    {
     "data": {
      "text/plain": [
       "\"julia is an amazing open source programming language\""
      ]
     },
     "execution_count": 32,
     "metadata": {},
     "output_type": "execute_result"
    }
   ],
   "source": [
    "lowercasefirst(julia_string)"
   ]
  },
  {
   "cell_type": "code",
   "execution_count": 33,
   "id": "da17cc08-c187-4a85-a1e7-45c6bde199c7",
   "metadata": {},
   "outputs": [
    {
     "data": {
      "text/plain": [
       "\"Julia is an awesome open source programming language\""
      ]
     },
     "execution_count": 33,
     "metadata": {},
     "output_type": "execute_result"
    }
   ],
   "source": [
    "# replace() necesita que le pasemos un string y una nueva sintaxis, llamada par\n",
    "replace(julia_string, \"amazing\" => \"awesome\")"
   ]
  },
  {
   "cell_type": "code",
   "execution_count": 34,
   "id": "f16be32a-0b70-47e9-aaad-1543c3334f76",
   "metadata": {},
   "outputs": [
    {
     "data": {
      "text/plain": [
       "8-element Vector{SubString{String}}:\n",
       " \"Julia\"\n",
       " \"is\"\n",
       " \"an\"\n",
       " \"amazing\"\n",
       " \"open\"\n",
       " \"source\"\n",
       " \"programming\"\n",
       " \"language\""
      ]
     },
     "execution_count": 34,
     "metadata": {},
     "output_type": "execute_result"
    }
   ],
   "source": [
    "split(julia_string, \" \")"
   ]
  },
  {
   "cell_type": "markdown",
   "id": "a39c45df-7eff-4adb-acc0-70e00bd76127",
   "metadata": {},
   "source": [
    "***Conversiones a String***"
   ]
  },
  {
   "cell_type": "code",
   "execution_count": 35,
   "id": "ef1a4248-3344-4e66-8f0f-dc9e027b26af",
   "metadata": {},
   "outputs": [
    {
     "data": {
      "text/plain": [
       "String"
      ]
     },
     "execution_count": 35,
     "metadata": {},
     "output_type": "execute_result"
    }
   ],
   "source": [
    "typeof(string(123))"
   ]
  },
  {
   "cell_type": "markdown",
   "id": "deaccb12-c8d1-41c4-ab5b-17d3077b1357",
   "metadata": {},
   "source": [
    "Para convertir un string a un número, Julia tiene la función `parse`."
   ]
  },
  {
   "cell_type": "code",
   "execution_count": 37,
   "id": "15de9ebc-fc7c-4c84-824b-fe264560555e",
   "metadata": {},
   "outputs": [
    {
     "data": {
      "text/plain": [
       "Int64"
      ]
     },
     "execution_count": 37,
     "metadata": {},
     "output_type": "execute_result"
    }
   ],
   "source": [
    "typeof(parse(Int64,\"123\"))"
   ]
  },
  {
   "cell_type": "code",
   "execution_count": 43,
   "id": "f7a3b7b0-25e6-4f92-a46c-5451d4914d60",
   "metadata": {},
   "outputs": [],
   "source": [
    "# Esto devuelve nothing\n",
    "tryparse(Int64, \"Hello World\")"
   ]
  },
  {
   "cell_type": "markdown",
   "id": "0821d8a4-147e-4aaf-9846-c2ac48efed72",
   "metadata": {},
   "source": [
    "***Tuplas***\n",
    "Una tupla es un container de longitud fija que puede contener tipos de datos múltiples. Es _inmutable_, no puede ser modificado después de ser instanciado."
   ]
  },
  {
   "cell_type": "code",
   "execution_count": 44,
   "id": "67d30405-5730-42af-a18d-548fad0c2cae",
   "metadata": {},
   "outputs": [
    {
     "data": {
      "text/plain": [
       "(1, 3.14, \"Julia\")"
      ]
     },
     "execution_count": 44,
     "metadata": {},
     "output_type": "execute_result"
    }
   ],
   "source": [
    "my_tuple = (1, 3.14, \"Julia\")"
   ]
  },
  {
   "cell_type": "code",
   "execution_count": 45,
   "id": "ddf8203c-0c97-4cf6-8fcf-17774ec74cae",
   "metadata": {},
   "outputs": [
    {
     "data": {
      "text/plain": [
       "3.14"
      ]
     },
     "execution_count": 45,
     "metadata": {},
     "output_type": "execute_result"
    }
   ],
   "source": [
    "my_tuple[2]"
   ]
  },
  {
   "cell_type": "code",
   "execution_count": 46,
   "id": "28a35b64-5112-49f9-9afa-7155535917b4",
   "metadata": {},
   "outputs": [
    {
     "data": {
      "text/plain": [
       "8"
      ]
     },
     "execution_count": 46,
     "metadata": {},
     "output_type": "execute_result"
    }
   ],
   "source": [
    "# Puedo pasar a una función anónima más de una variable mediante el uso de tuplas\n",
    "map((x,y) -> x^y, 2, 3)"
   ]
  },
  {
   "cell_type": "code",
   "execution_count": 48,
   "id": "13415360-bcf3-464a-bdd9-27eb132fbf27",
   "metadata": {},
   "outputs": [
    {
     "data": {
      "text/plain": [
       "10"
      ]
     },
     "execution_count": 48,
     "metadata": {},
     "output_type": "execute_result"
    }
   ],
   "source": [
    "map((x, y, z) -> x^y + z, 3, 2, 1)"
   ]
  },
  {
   "cell_type": "markdown",
   "id": "198a2556-a076-4ec4-a6c8-f965e0dd160f",
   "metadata": {},
   "source": [
    "***Tupla nombrada***\n",
    "\n",
    "Al igual que las tuplas, tiene elementos de distintos tipos y es inmutable. Pero ahora sus elementos pueden tener un nombre."
   ]
  },
  {
   "cell_type": "code",
   "execution_count": 49,
   "id": "c6edfc34-7c7d-4de7-9403-1280edbba025",
   "metadata": {},
   "outputs": [
    {
     "data": {
      "text/plain": [
       "(i = 1, f = 3.14, s = \"Julia\")"
      ]
     },
     "execution_count": 49,
     "metadata": {},
     "output_type": "execute_result"
    }
   ],
   "source": [
    "my_namedtuple = (i=1, f=3.14, s=\"Julia\")"
   ]
  },
  {
   "cell_type": "code",
   "execution_count": 50,
   "id": "e6652115-e895-4096-9b49-5aee2c63a4d3",
   "metadata": {},
   "outputs": [
    {
     "data": {
      "text/plain": [
       "\"Julia\""
      ]
     },
     "execution_count": 50,
     "metadata": {},
     "output_type": "execute_result"
    }
   ],
   "source": [
    "my_namedtuple.s"
   ]
  },
  {
   "cell_type": "code",
   "execution_count": 51,
   "id": "e819d59b-1550-4204-89d1-070dcdd61192",
   "metadata": {},
   "outputs": [
    {
     "data": {
      "text/plain": [
       "(i = 1, f = 3.14, s = \"Julia\")"
      ]
     },
     "execution_count": 51,
     "metadata": {},
     "output_type": "execute_result"
    }
   ],
   "source": [
    "# Pueden ser construidas instanciando sus elementos por fuera\n",
    "i = 1\n",
    "f = 3.14\n",
    "s = \"Julia\"\n",
    "\n",
    "my_quick_namedtuple = (; i, f, s)"
   ]
  },
  {
   "cell_type": "markdown",
   "id": "555c67b0-a0d9-4aae-934f-56f6aa2bb375",
   "metadata": {},
   "source": [
    "***Rangos***"
   ]
  },
  {
   "cell_type": "code",
   "execution_count": 52,
   "id": "46f7cd47-68f3-40c9-a6cf-59a3aa1910e6",
   "metadata": {},
   "outputs": [
    {
     "data": {
      "text/plain": [
       "1:10"
      ]
     },
     "execution_count": 52,
     "metadata": {},
     "output_type": "execute_result"
    }
   ],
   "source": [
    "1:10"
   ]
  },
  {
   "cell_type": "code",
   "execution_count": 53,
   "id": "90afdbfa-bd46-411a-afb7-ef05231f43e7",
   "metadata": {},
   "outputs": [
    {
     "data": {
      "text/plain": [
       "UnitRange{Int64}"
      ]
     },
     "execution_count": 53,
     "metadata": {},
     "output_type": "execute_result"
    }
   ],
   "source": [
    "typeof(1:10)"
   ]
  },
  {
   "cell_type": "code",
   "execution_count": 55,
   "id": "af924892-e181-45ad-9794-17bd34454db3",
   "metadata": {},
   "outputs": [
    {
     "data": {
      "text/plain": [
       "10-element Vector{Int64}:\n",
       "  1\n",
       "  2\n",
       "  3\n",
       "  4\n",
       "  5\n",
       "  6\n",
       "  7\n",
       "  8\n",
       "  9\n",
       " 10"
      ]
     },
     "execution_count": 55,
     "metadata": {},
     "output_type": "execute_result"
    }
   ],
   "source": [
    "# Los podemos agarrar en un array\n",
    "[x for x in 1:10]"
   ]
  },
  {
   "cell_type": "code",
   "execution_count": 56,
   "id": "7b7098ca-d13c-458f-89db-b72fc9c4a8a5",
   "metadata": {},
   "outputs": [
    {
     "data": {
      "text/plain": [
       "StepRangeLen{Float64, Base.TwicePrecision{Float64}, Base.TwicePrecision{Float64}, Int64}"
      ]
     },
     "execution_count": 56,
     "metadata": {},
     "output_type": "execute_result"
    }
   ],
   "source": [
    "typeof(1.0:10.0)"
   ]
  },
  {
   "cell_type": "code",
   "execution_count": 59,
   "id": "0900a75c-0307-4d3a-903e-4e6696f55c5c",
   "metadata": {},
   "outputs": [
    {
     "data": {
      "text/plain": [
       "6-element Vector{Int64}:\n",
       "  0\n",
       "  2\n",
       "  4\n",
       "  6\n",
       "  8\n",
       " 10"
      ]
     },
     "execution_count": 59,
     "metadata": {},
     "output_type": "execute_result"
    }
   ],
   "source": [
    "[x for x in 0:2:10]"
   ]
  },
  {
   "cell_type": "markdown",
   "id": "98b26db0-8c55-431b-bc74-bde29c648e83",
   "metadata": {},
   "source": [
    "***Array***"
   ]
  },
  {
   "cell_type": "code",
   "execution_count": 60,
   "id": "feb69571-3df8-47b6-b1a2-254eb20075d5",
   "metadata": {},
   "outputs": [
    {
     "data": {
      "text/plain": [
       "3-element Vector{Int64}:\n",
       " 1\n",
       " 2\n",
       " 3"
      ]
     },
     "execution_count": 60,
     "metadata": {},
     "output_type": "execute_result"
    }
   ],
   "source": [
    "myarray = [1, 2, 3]"
   ]
  },
  {
   "cell_type": "code",
   "execution_count": 61,
   "id": "8e6eb569-e8a9-4ead-9838-5a10f629a939",
   "metadata": {},
   "outputs": [
    {
     "data": {
      "text/plain": [
       "3-element Vector{Any}:\n",
       "  \"text\"\n",
       " 1\n",
       "  :symbol"
      ]
     },
     "execution_count": 61,
     "metadata": {},
     "output_type": "execute_result"
    }
   ],
   "source": [
    "# También puede contener distintos data-types\n",
    "myarray = [\"text\", 1, :symbol]"
   ]
  },
  {
   "cell_type": "markdown",
   "id": "1a43deaa-ba66-4c83-a0ea-1749288f3329",
   "metadata": {},
   "source": [
    "El constructor de bajo nivel de los arrays de Julia es el constructor default. Acepta el data-type dentro de las llaves y dentro del constructor se pasa el tipo de elemento, junto con las dimensiones desadas. Es usual inicializar vectores y matrices con elementos indefinidos usando el argumento `undef`."
   ]
  },
  {
   "cell_type": "code",
   "execution_count": 62,
   "id": "890180fc-be06-4cad-90b9-8151c82629da",
   "metadata": {},
   "outputs": [
    {
     "data": {
      "text/plain": [
       "10-element Vector{Float64}:\n",
       "   6.9368173568973e-310\n",
       "   6.93681702732233e-310\n",
       "   6.9368173569724e-310\n",
       "   6.9368170273097e-310\n",
       "   6.93681735686175e-310\n",
       "   6.9368618040029e-310\n",
       "   3.1783e-320\n",
       " NaN\n",
       "   3.237914e-318\n",
       "   6.9368664085109e-310"
      ]
     },
     "execution_count": 62,
     "metadata": {},
     "output_type": "execute_result"
    }
   ],
   "source": [
    "my_vector = Vector{Float64}(undef, 10)"
   ]
  },
  {
   "cell_type": "code",
   "execution_count": 63,
   "id": "ecfc3c4b-cec4-47b8-99f8-f6e9a92c9da0",
   "metadata": {},
   "outputs": [
    {
     "data": {
      "text/plain": [
       "10×2 Matrix{Float64}:\n",
       " 6.93685e-310  6.93685e-310\n",
       " 6.93685e-310  6.93685e-310\n",
       " 6.93685e-310  6.93685e-310\n",
       " 6.93685e-310  6.93685e-310\n",
       " 6.93685e-310  6.93685e-310\n",
       " 6.93685e-310  6.93685e-310\n",
       " 6.93685e-310  6.93685e-310\n",
       " 6.93685e-310  6.93685e-310\n",
       " 6.93685e-310  6.93685e-310\n",
       " 6.93685e-310  6.93685e-310"
      ]
     },
     "execution_count": 63,
     "metadata": {},
     "output_type": "execute_result"
    }
   ],
   "source": [
    "my_matrix = Matrix{Float64}(undef, 10, 2)"
   ]
  },
  {
   "cell_type": "code",
   "execution_count": 64,
   "id": "36f50fc6-380d-4ea1-8662-b4ab2fd7e385",
   "metadata": {},
   "outputs": [
    {
     "data": {
      "text/plain": [
       "10-element Vector{Float64}:\n",
       " 0.0\n",
       " 0.0\n",
       " 0.0\n",
       " 0.0\n",
       " 0.0\n",
       " 0.0\n",
       " 0.0\n",
       " 0.0\n",
       " 0.0\n",
       " 0.0"
      ]
     },
     "execution_count": 64,
     "metadata": {},
     "output_type": "execute_result"
    }
   ],
   "source": [
    "my_vector_zeros = zeros(10)"
   ]
  },
  {
   "cell_type": "code",
   "execution_count": 65,
   "id": "f941aeca-d471-4d4d-97e2-df033ae1d982",
   "metadata": {},
   "outputs": [
    {
     "data": {
      "text/plain": [
       "10×2 Matrix{Int64}:\n",
       " 0  0\n",
       " 0  0\n",
       " 0  0\n",
       " 0  0\n",
       " 0  0\n",
       " 0  0\n",
       " 0  0\n",
       " 0  0\n",
       " 0  0\n",
       " 0  0"
      ]
     },
     "execution_count": 65,
     "metadata": {},
     "output_type": "execute_result"
    }
   ],
   "source": [
    "my_matrix_zeros = zeros(Int64,10,2)"
   ]
  },
  {
   "cell_type": "code",
   "execution_count": 67,
   "id": "dea7b564-1e3b-4145-a948-033ccfd52fad",
   "metadata": {},
   "outputs": [
    {
     "data": {
      "text/plain": [
       "10×2 Matrix{Float64}:\n",
       " 1.0  1.0\n",
       " 1.0  1.0\n",
       " 1.0  1.0\n",
       " 1.0  1.0\n",
       " 1.0  1.0\n",
       " 1.0  1.0\n",
       " 1.0  1.0\n",
       " 1.0  1.0\n",
       " 1.0  1.0\n",
       " 1.0  1.0"
      ]
     },
     "execution_count": 67,
     "metadata": {},
     "output_type": "execute_result"
    }
   ],
   "source": [
    "my_matrix_ones = ones(10,2)"
   ]
  },
  {
   "cell_type": "code",
   "execution_count": 68,
   "id": "f654d9bc-e14c-4846-b68c-640735ed28ce",
   "metadata": {},
   "outputs": [
    {
     "data": {
      "text/plain": [
       "2×2 Matrix{Float64}:\n",
       " 3.14  3.14\n",
       " 3.14  3.14"
      ]
     },
     "execution_count": 68,
     "metadata": {},
     "output_type": "execute_result"
    }
   ],
   "source": [
    "my_matrix_π = Matrix{Float64}(undef, 2, 2)\n",
    "fill!(my_matrix_π, 3.14)"
   ]
  },
  {
   "cell_type": "code",
   "execution_count": 75,
   "id": "8c30f239-ae49-415a-9b5a-12eccb0d652e",
   "metadata": {},
   "outputs": [
    {
     "data": {
      "text/plain": [
       "2×2 Matrix{Float64}:\n",
       " 1.0  2.0\n",
       " 3.0  4.0"
      ]
     },
     "execution_count": 75,
     "metadata": {},
     "output_type": "execute_result"
    }
   ],
   "source": [
    "Float64[[1 2]\n",
    " [3 4]]"
   ]
  },
  {
   "cell_type": "code",
   "execution_count": 76,
   "id": "cc97993b-e0f9-4e60-af3a-8071f83edb9c",
   "metadata": {},
   "outputs": [
    {
     "data": {
      "text/plain": [
       "1×4 Matrix{Bool}:\n",
       " 0  1  0  1"
      ]
     },
     "execution_count": 76,
     "metadata": {},
     "output_type": "execute_result"
    }
   ],
   "source": [
    "Bool[0 1 0 1]"
   ]
  },
  {
   "cell_type": "markdown",
   "id": "bd073d9d-328b-4035-875f-723b60e8c86d",
   "metadata": {},
   "source": [
    "Se puede hacer _mix_ y _match_ con los arrays haciendo uso de los constructores."
   ]
  },
  {
   "cell_type": "code",
   "execution_count": 77,
   "id": "e09518f0-9453-49ee-beb1-f99c5e849fd1",
   "metadata": {},
   "outputs": [
    {
     "data": {
      "text/plain": [
       "2×4 Matrix{Int64}:\n",
       " 1  1  0  0\n",
       " 1  1  0  0"
      ]
     },
     "execution_count": 77,
     "metadata": {},
     "output_type": "execute_result"
    }
   ],
   "source": [
    "[ones(Int, 2, 2) zeros(Int, 2, 2)]"
   ]
  },
  {
   "cell_type": "code",
   "execution_count": 78,
   "id": "8dd27c8e-a1ed-48c5-a7d1-b8f07b6f469b",
   "metadata": {},
   "outputs": [
    {
     "data": {
      "text/plain": [
       "4×2 Matrix{Int64}:\n",
       " 0  0\n",
       " 0  0\n",
       " 1  1\n",
       " 1  1"
      ]
     },
     "execution_count": 78,
     "metadata": {},
     "output_type": "execute_result"
    }
   ],
   "source": [
    "[zeros(Int, 2, 2)\n",
    " ones(Int, 2, 2)]"
   ]
  },
  {
   "cell_type": "code",
   "execution_count": 79,
   "id": "86231505-1148-4584-b0f4-54815c247c40",
   "metadata": {},
   "outputs": [
    {
     "data": {
      "text/plain": [
       "3×3 Matrix{Int64}:\n",
       " 1  1  1\n",
       " 1  1  2\n",
       " 3  4  5"
      ]
     },
     "execution_count": 79,
     "metadata": {},
     "output_type": "execute_result"
    }
   ],
   "source": [
    "[ones(Int, 2, 2) [1; 2]\n",
    " [3 4]            5]"
   ]
  },
  {
   "cell_type": "code",
   "execution_count": 80,
   "id": "9294e849-f540-42f0-a24b-9bb77f120207",
   "metadata": {},
   "outputs": [
    {
     "data": {
      "text/plain": [
       "10-element Vector{Int64}:\n",
       "   1\n",
       "   4\n",
       "   9\n",
       "  16\n",
       "  25\n",
       "  36\n",
       "  49\n",
       "  64\n",
       "  81\n",
       " 100"
      ]
     },
     "execution_count": 80,
     "metadata": {},
     "output_type": "execute_result"
    }
   ],
   "source": [
    "# Al igual que en Python hay listas de comprensión\n",
    "[x^2 for x in 1:10]"
   ]
  },
  {
   "cell_type": "code",
   "execution_count": 81,
   "id": "31de2357-96e5-4b87-a4db-548dcce38b28",
   "metadata": {},
   "outputs": [
    {
     "data": {
      "text/plain": [
       "20-element Vector{Int64}:\n",
       "   1\n",
       "   1\n",
       "   2\n",
       "   4\n",
       "   3\n",
       "   9\n",
       "   4\n",
       "  16\n",
       "   5\n",
       "  25\n",
       "   6\n",
       "  36\n",
       "   7\n",
       "  49\n",
       "   8\n",
       "  64\n",
       "   9\n",
       "  81\n",
       "  10\n",
       " 100"
      ]
     },
     "execution_count": 81,
     "metadata": {},
     "output_type": "execute_result"
    }
   ],
   "source": [
    "[x^y for x in 1:10 for y in 1:2]"
   ]
  },
  {
   "cell_type": "code",
   "execution_count": 83,
   "id": "63bde921-3421-482e-9d6e-8356714c1672",
   "metadata": {},
   "outputs": [
    {
     "data": {
      "text/plain": [
       "5-element Vector{Float64}:\n",
       "  1.0\n",
       "  9.0\n",
       " 25.0\n",
       " 49.0\n",
       " 81.0"
      ]
     },
     "execution_count": 83,
     "metadata": {},
     "output_type": "execute_result"
    }
   ],
   "source": [
    "# También acepta condicionales\n",
    "Float64[x^2 for x in 1:10 if isodd(x)]"
   ]
  },
  {
   "cell_type": "markdown",
   "id": "a44ec776-82cd-48d3-b5f8-5b26b63af29a",
   "metadata": {},
   "source": [
    "# Me quedé en la 3.3.7.2"
   ]
  }
 ],
 "metadata": {
  "kernelspec": {
   "display_name": "Julia 1.9.0",
   "language": "julia",
   "name": "julia-1.9"
  },
  "language_info": {
   "file_extension": ".jl",
   "mimetype": "application/julia",
   "name": "julia",
   "version": "1.9.0"
  }
 },
 "nbformat": 4,
 "nbformat_minor": 5
}
