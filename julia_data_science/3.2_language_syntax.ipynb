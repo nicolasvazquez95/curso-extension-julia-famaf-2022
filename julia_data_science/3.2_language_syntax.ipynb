{
 "cells": [
  {
   "cell_type": "markdown",
   "id": "faac0265-6041-4f0d-af42-e648c97d72b3",
   "metadata": {},
   "source": [
    "Julia es un lenguaje de tipado dinámico con un compilador JIT. A diferencia de Python o R, también admite que el usuario especifique declaraciones de tipo. \n",
    "\n",
    "Por otro lado, permite definir el comportamiento de una función para combinaciones de tipos de argumentos mediante el _multiple dispatch_. "
   ]
  },
  {
   "cell_type": "markdown",
   "id": "26b4cbb6-0be9-46d9-a54b-f139ee59e90a",
   "metadata": {},
   "source": [
    "***Variables***\n",
    "Las más utilizadas son: \n",
    "- Enteros: `Int64`\n",
    "- Flotantes: `Float64`\n",
    "- Booleanos: `Bool`\n",
    "- Strings: `String`\n",
    "\n",
    "Si se necesita más o menos precisión en el almacenamiento de números, se admiten por ejemplo los tipos `Int8` o `Int128`. "
   ]
  },
  {
   "cell_type": "code",
   "execution_count": 1,
   "id": "53bf8c01-86b7-4b99-b4fd-0a46d812cf86",
   "metadata": {},
   "outputs": [
    {
     "data": {
      "text/plain": [
       "9"
      ]
     },
     "execution_count": 1,
     "metadata": {},
     "output_type": "execute_result"
    }
   ],
   "source": [
    "name = \"Julia\"\n",
    "age = 9"
   ]
  },
  {
   "cell_type": "code",
   "execution_count": 2,
   "id": "53a0e1bf-c958-4a02-aa18-be2925a57db6",
   "metadata": {},
   "outputs": [
    {
     "data": {
      "text/plain": [
       "\"Julia\""
      ]
     },
     "execution_count": 2,
     "metadata": {},
     "output_type": "execute_result"
    }
   ],
   "source": [
    "name"
   ]
  },
  {
   "cell_type": "code",
   "execution_count": 3,
   "id": "7a49c6e5-6e77-487f-b769-018fad04623d",
   "metadata": {},
   "outputs": [
    {
     "data": {
      "text/plain": [
       "10"
      ]
     },
     "execution_count": 3,
     "metadata": {},
     "output_type": "execute_result"
    }
   ],
   "source": [
    "age = 10"
   ]
  },
  {
   "cell_type": "code",
   "execution_count": 4,
   "id": "128a7042-b349-4966-b3d9-83abe4223202",
   "metadata": {},
   "outputs": [
    {
     "data": {
      "text/plain": [
       "120"
      ]
     },
     "execution_count": 4,
     "metadata": {},
     "output_type": "execute_result"
    }
   ],
   "source": [
    "12 * age"
   ]
  },
  {
   "cell_type": "code",
   "execution_count": 5,
   "id": "bce55dee-e355-46b4-b1ec-25542ba8f580",
   "metadata": {},
   "outputs": [
    {
     "data": {
      "text/plain": [
       "Int64"
      ]
     },
     "execution_count": 5,
     "metadata": {},
     "output_type": "execute_result"
    }
   ],
   "source": [
    "typeof(age)"
   ]
  },
  {
   "cell_type": "markdown",
   "id": "e563f5f9-fbb9-40a3-99c1-037ad8036d8a",
   "metadata": {},
   "source": [
    "Qué puedo hacer con los enteros? Una función útil es `methodswith`, que devuelve cada función disponible para un cierto tipo."
   ]
  },
  {
   "cell_type": "code",
   "execution_count": 6,
   "id": "bcad53ab-8e5d-4c6e-a1e5-ec0101fea500",
   "metadata": {},
   "outputs": [
    {
     "data": {
      "text/html": [
       "5-element Vector{Method}:<ul><li> AbstractFloat(x::<b>Int64</b>) in Base at <a href=\"https://github.com/JuliaLang/julia/tree/8e630552924eac54c809aa7bc30871c7df1582d3/base/float.jl#L268\" target=\"_blank\">float.jl:268</a><li> Float16(x::<b>Int64</b>) in Base at <a href=\"https://github.com/JuliaLang/julia/tree/8e630552924eac54c809aa7bc30871c7df1582d3/base/float.jl#L159\" target=\"_blank\">float.jl:159</a><li> Float32(x::<b>Int64</b>) in Base at <a href=\"https://github.com/JuliaLang/julia/tree/8e630552924eac54c809aa7bc30871c7df1582d3/base/float.jl#L159\" target=\"_blank\">float.jl:159</a><li> Float64(x::<b>Int64</b>) in Base at <a href=\"https://github.com/JuliaLang/julia/tree/8e630552924eac54c809aa7bc30871c7df1582d3/base/float.jl#L159\" target=\"_blank\">float.jl:159</a><li> Int64(x::<b>Union{Bool, Int32, Int64, UInt16, UInt32, UInt64, UInt8, Int128, Int16, Int8, UInt128}</b>) in Core at <a href=\"file:///home/bombi/julia-1.9.0/share/julia/base/boot.jl\" target=\"_blank\">boot.jl:784</a></ul>"
      ],
      "text/plain": [
       "[1] AbstractFloat(\u001b[90mx\u001b[39m::\u001b[1mInt64\u001b[22m)\u001b[90m @\u001b[39m \u001b[90mBase\u001b[39m \u001b[90m\u001b[4mfloat.jl:268\u001b[24m\u001b[39m\n",
       "[2] Float16(\u001b[90mx\u001b[39m::\u001b[1mInt64\u001b[22m)\u001b[90m @\u001b[39m \u001b[90mBase\u001b[39m \u001b[90m\u001b[4mfloat.jl:159\u001b[24m\u001b[39m\n",
       "[3] Float32(\u001b[90mx\u001b[39m::\u001b[1mInt64\u001b[22m)\u001b[90m @\u001b[39m \u001b[90mBase\u001b[39m \u001b[90m\u001b[4mfloat.jl:159\u001b[24m\u001b[39m\n",
       "[4] Float64(\u001b[90mx\u001b[39m::\u001b[1mInt64\u001b[22m)\u001b[90m @\u001b[39m \u001b[90mBase\u001b[39m \u001b[90m\u001b[4mfloat.jl:159\u001b[24m\u001b[39m\n",
       "[5] Int64(\u001b[90mx\u001b[39m::\u001b[1mUnion\u001b[22m\u001b[0m{Bool, Int32, Int64, UInt16, UInt32, UInt64, UInt8, Int128, Int16, Int8, UInt128})\u001b[90m @\u001b[39m \u001b[90mCore\u001b[39m \u001b[90m\u001b[4mboot.jl:784\u001b[24m\u001b[39m"
      ]
     },
     "execution_count": 6,
     "metadata": {},
     "output_type": "execute_result"
    }
   ],
   "source": [
    "first(methodswith(Int64),5)"
   ]
  },
  {
   "cell_type": "markdown",
   "id": "48b4dd83-d3c5-44bc-9212-c421367b2539",
   "metadata": {},
   "source": [
    "***Tipos definidos por el usuario***\n",
    "En Julia, podemos definir un tipo de datos estructurado en un `struct`. La mayoría de los struct son definidos por el usuario, asique también son conocidos como _tipos definidos por el usuario_."
   ]
  },
  {
   "cell_type": "code",
   "execution_count": 7,
   "id": "e08d3d02-69e5-4b1b-b266-49c651cddcb0",
   "metadata": {},
   "outputs": [],
   "source": [
    "struct Language\n",
    "    name::String\n",
    "    title::String\n",
    "    year_of_birth::Int64\n",
    "    fast::Bool\n",
    "end"
   ]
  },
  {
   "cell_type": "code",
   "execution_count": 8,
   "id": "07060969-e674-4a6b-8343-bb9cfafc4b8b",
   "metadata": {},
   "outputs": [
    {
     "data": {
      "text/plain": [
       "(:name, :title, :year_of_birth, :fast)"
      ]
     },
     "execution_count": 8,
     "metadata": {},
     "output_type": "execute_result"
    }
   ],
   "source": [
    "fieldnames(Language)"
   ]
  },
  {
   "cell_type": "code",
   "execution_count": 9,
   "id": "b7f921c2-9997-4932-8484-cce5d67932f2",
   "metadata": {},
   "outputs": [
    {
     "data": {
      "text/plain": [
       "Language(\"Python\", \"Letargicus\", 1991, false)"
      ]
     },
     "execution_count": 9,
     "metadata": {},
     "output_type": "execute_result"
    }
   ],
   "source": [
    "julia = Language(\"Julia\",\"Rapidus\",2012,true)\n",
    "python = Language(\"Python\",\"Letargicus\",1991,false)"
   ]
  },
  {
   "cell_type": "markdown",
   "id": "74478162-2714-4282-a8c3-e287081c2c7c",
   "metadata": {},
   "source": [
    "En los `struct` no es posible cambiar sus valores una vez que son instanciados. Esto puede hacerse en otro tipo de estructura, la `mutable struct`. Estos son en general más lentos y propensos a errores. "
   ]
  },
  {
   "cell_type": "code",
   "execution_count": 10,
   "id": "7c118581-d6b9-40dc-a615-9623aef4ace0",
   "metadata": {},
   "outputs": [
    {
     "ename": "LoadError",
     "evalue": "setfield!: immutable struct of type Language cannot be changed",
     "output_type": "error",
     "traceback": [
      "setfield!: immutable struct of type Language cannot be changed",
      "",
      "Stacktrace:",
      " [1] setproperty!(x::Language, f::Symbol, v::String)",
      "   @ Base ./Base.jl:38",
      " [2] top-level scope",
      "   @ In[10]:1"
     ]
    }
   ],
   "source": [
    "julia.name = \"Yulia\""
   ]
  },
  {
   "cell_type": "code",
   "execution_count": 11,
   "id": "8d94d264-bc1b-46fb-a851-395c3aabf6f6",
   "metadata": {},
   "outputs": [],
   "source": [
    "mutable struct MutableLanguage\n",
    "    name::String\n",
    "    title::String\n",
    "    year::Int64\n",
    "    fast::Bool\n",
    "end"
   ]
  },
  {
   "cell_type": "code",
   "execution_count": 12,
   "id": "ac8668c6-73e5-4028-8c15-71c3f33872b4",
   "metadata": {},
   "outputs": [
    {
     "data": {
      "text/plain": [
       "MutableLanguage(\"Julia\", \"Rapidus\", 2012, true)"
      ]
     },
     "execution_count": 12,
     "metadata": {},
     "output_type": "execute_result"
    }
   ],
   "source": [
    "julia_mutable = MutableLanguage(\"Julia\",\"Rapidus\",2012,true)"
   ]
  },
  {
   "cell_type": "code",
   "execution_count": 13,
   "id": "b9187644-1f69-4bfe-ada5-f0b1327c003f",
   "metadata": {},
   "outputs": [
    {
     "data": {
      "text/plain": [
       "\"Python Obliteratus\""
      ]
     },
     "execution_count": 13,
     "metadata": {},
     "output_type": "execute_result"
    }
   ],
   "source": [
    "julia_mutable.title = \"Python Obliteratus\""
   ]
  },
  {
   "cell_type": "code",
   "execution_count": 14,
   "id": "42ba4d1b-a9f0-4448-b58c-f04dd68f3bbb",
   "metadata": {},
   "outputs": [
    {
     "data": {
      "text/plain": [
       "MutableLanguage(\"Julia\", \"Python Obliteratus\", 2012, true)"
      ]
     },
     "execution_count": 14,
     "metadata": {},
     "output_type": "execute_result"
    }
   ],
   "source": [
    "julia_mutable"
   ]
  },
  {
   "cell_type": "markdown",
   "id": "e11985e2-0081-41bd-ae6c-cb70b594c9e4",
   "metadata": {},
   "source": [
    " ***Opearadores booleanos y comparaciones numéricas***\n",
    " \n",
    " Hay tres operadores booleanos en Julia: \n",
    " - `!`:*NOT*\n",
    " - `&&`:*AND*\n",
    " - `||`:*OR*"
   ]
  },
  {
   "cell_type": "code",
   "execution_count": 15,
   "id": "c89bf230-f9a6-463c-b7a2-89e16bc5bb4a",
   "metadata": {},
   "outputs": [
    {
     "data": {
      "text/plain": [
       "false"
      ]
     },
     "execution_count": 15,
     "metadata": {},
     "output_type": "execute_result"
    }
   ],
   "source": [
    "!true"
   ]
  },
  {
   "cell_type": "code",
   "execution_count": 16,
   "id": "baca3878-fb20-4427-8599-ad8fc3797530",
   "metadata": {},
   "outputs": [
    {
     "data": {
      "text/plain": [
       "true"
      ]
     },
     "execution_count": 16,
     "metadata": {},
     "output_type": "execute_result"
    }
   ],
   "source": [
    "(false && true) || (!false)"
   ]
  },
  {
   "cell_type": "code",
   "execution_count": 17,
   "id": "302abb9b-d107-44e8-9647-5be2fa7047a5",
   "metadata": {},
   "outputs": [
    {
     "data": {
      "text/plain": [
       "true"
      ]
     },
     "execution_count": 17,
     "metadata": {},
     "output_type": "execute_result"
    }
   ],
   "source": [
    "(6 isa Int64) && (6 isa Real)"
   ]
  },
  {
   "cell_type": "markdown",
   "id": "b891d5cf-77f3-4616-a626-3365eb1389a7",
   "metadata": {},
   "source": [
    "Para la comparación numérica, Julia tiene tres tipos de comparadores: \n",
    "\n",
    "- Igualdad: `==`, o desigualdad `!=` (también se puede escribir como en LaTex $\\neq$\n",
    "- Menor que: `<`, menor o igual que `<=` ($\\leq$)\n",
    "- Mayor que: `>`, mayor o igual que `>=` ($\\geq$)"
   ]
  },
  {
   "cell_type": "markdown",
   "id": "491fbdf8-a45c-44b9-867c-f236b6154313",
   "metadata": {},
   "source": [
    "***Funciones***\n",
    "\n",
    "La sintaxis básica de una función es más o menos la siguiente\n",
    "\n",
    "```Julia\n",
    "function function_name(arg1,arg2)\n",
    "    result = stuff with the arg1 and arg2\n",
    "    return result\n",
    "end\n",
    "```\n",
    "\n",
    "- La declaración inicia con la palabra reservada `function`\n",
    "- Julia sabe que la declaración de la función ha terminado con la palabra reservada `end`.\n",
    "\n",
    "También existe una forma compacta de definir una función:\n",
    "```Julia\n",
    "f_name(arg1,arg2) = stuff with the arg1 and arg2\n",
    "```"
   ]
  },
  {
   "cell_type": "code",
   "execution_count": 21,
   "id": "0c639638-ae8f-40dd-8a6a-1f1985a80a53",
   "metadata": {},
   "outputs": [
    {
     "data": {
      "text/plain": [
       "add_numbers (generic function with 1 method)"
      ]
     },
     "execution_count": 21,
     "metadata": {},
     "output_type": "execute_result"
    }
   ],
   "source": [
    "function add_numbers(x,y)\n",
    "    return x+y\n",
    "end"
   ]
  },
  {
   "cell_type": "code",
   "execution_count": 22,
   "id": "650fe687-d2bc-47f3-b0f8-7feefc5ea2dd",
   "metadata": {},
   "outputs": [
    {
     "data": {
      "text/plain": [
       "46"
      ]
     },
     "execution_count": 22,
     "metadata": {},
     "output_type": "execute_result"
    }
   ],
   "source": [
    "add_numbers(17,29)"
   ]
  },
  {
   "cell_type": "code",
   "execution_count": 23,
   "id": "116cf55c-d8ac-45a4-a87b-0586009a315a",
   "metadata": {},
   "outputs": [
    {
     "data": {
      "text/plain": [
       "5.86"
      ]
     },
     "execution_count": 23,
     "metadata": {},
     "output_type": "execute_result"
    }
   ],
   "source": [
    "add_numbers(3.14,2.72)"
   ]
  },
  {
   "cell_type": "markdown",
   "id": "82691674-d022-411d-a046-ca562f8b54d5",
   "metadata": {},
   "source": [
    "Podemos especificar comportamiento específico al definir las declaraciones de tipo: "
   ]
  },
  {
   "cell_type": "code",
   "execution_count": 25,
   "id": "64ad35db-706b-431e-b8d2-6411d3cee2f5",
   "metadata": {},
   "outputs": [
    {
     "data": {
      "text/plain": [
       "round_number (generic function with 2 methods)"
      ]
     },
     "execution_count": 25,
     "metadata": {},
     "output_type": "execute_result"
    }
   ],
   "source": [
    "round_number(x::Float64) = round(x)"
   ]
  },
  {
   "cell_type": "code",
   "execution_count": 26,
   "id": "30c37d26-340c-4f7c-b2b1-f04d163f372f",
   "metadata": {},
   "outputs": [
    {
     "data": {
      "text/plain": [
       "round_number (generic function with 2 methods)"
      ]
     },
     "execution_count": 26,
     "metadata": {},
     "output_type": "execute_result"
    }
   ],
   "source": [
    "round_number(x::Int64) = x"
   ]
  },
  {
   "cell_type": "markdown",
   "id": "ec73328a-190f-4965-aec7-2f8037c4dee5",
   "metadata": {},
   "source": [
    "Podemos ver que `round_number` es una función con múltiples métodos:"
   ]
  },
  {
   "cell_type": "code",
   "execution_count": 27,
   "id": "a468960c-c25f-4da7-82e1-7bddd310fee7",
   "metadata": {},
   "outputs": [
    {
     "data": {
      "text/html": [
       "# 2 methods for generic function <b>round_number</b> from \u001b[35mMain\u001b[39m:<ul><li> round_number(x::<b>Float64</b>) in Main at In[25]:1</li> <li> round_number(x::<b>Int64</b>) in Main at In[26]:1</li> </ul>"
      ],
      "text/plain": [
       "# 2 methods for generic function \"round_number\" from \u001b[35mMain\u001b[39m:\n",
       " [1] round_number(\u001b[90mx\u001b[39m::\u001b[1mFloat64\u001b[22m)\n",
       "\u001b[90m     @\u001b[39m \u001b[90m\u001b[4mIn[25]:1\u001b[24m\u001b[39m\n",
       " [2] round_number(\u001b[90mx\u001b[39m::\u001b[1mInt64\u001b[22m)\n",
       "\u001b[90m     @\u001b[39m \u001b[90m\u001b[4mIn[26]:1\u001b[24m\u001b[39m"
      ]
     },
     "execution_count": 27,
     "metadata": {},
     "output_type": "execute_result"
    }
   ],
   "source": [
    "methods(round_number)"
   ]
  },
  {
   "cell_type": "markdown",
   "id": "c284bf00-3153-4cf6-94d4-70c41a12f9d3",
   "metadata": {},
   "source": [
    "Qué pasa si queremos redondear un flotante de 32 bits? O un entero de 8 bits?\n",
    "\n",
    "Podemos usar un tipo abstracto como la firma de tipo, como `AbstractFloat` o `AbstractInt`:  "
   ]
  },
  {
   "cell_type": "code",
   "execution_count": 28,
   "id": "c53f7b26-9069-428b-a183-4cec42b8a1ec",
   "metadata": {},
   "outputs": [
    {
     "data": {
      "text/plain": [
       "round_number (generic function with 3 methods)"
      ]
     },
     "execution_count": 28,
     "metadata": {},
     "output_type": "execute_result"
    }
   ],
   "source": [
    "round_number(x::AbstractFloat) = round(x)"
   ]
  },
  {
   "cell_type": "code",
   "execution_count": 29,
   "id": "8dd19c68-5a9d-456f-b903-51622236c7e1",
   "metadata": {},
   "outputs": [
    {
     "data": {
      "text/plain": [
       "1.0f0"
      ]
     },
     "execution_count": 29,
     "metadata": {},
     "output_type": "execute_result"
    }
   ],
   "source": [
    "x_32 = Float32(1.1)\n",
    "round_number(x_32)"
   ]
  },
  {
   "cell_type": "markdown",
   "id": "c253cf2a-9418-4851-b301-b151eece3245",
   "metadata": {},
   "source": [
    "***Un ejemplo de multiple dispatch***\n",
    "\n",
    "Para el struct `Language` definido anteriormente, vamos a hacer una extensión de la función `Base.show` que imprime la salida de tipos instanciados y `struct`."
   ]
  },
  {
   "cell_type": "code",
   "execution_count": 33,
   "id": "a0f609e1-ba22-4d83-a8fd-5ce8ca24d380",
   "metadata": {},
   "outputs": [],
   "source": [
    "Base.show(io::IO,l::Language) = print(\n",
    "    io, l.name, \", \",\n",
    "    2023 - l.year_of_birth, \" years old, \",\n",
    "    \"has the following titles: \", l.title\n",
    "    )"
   ]
  },
  {
   "cell_type": "code",
   "execution_count": 34,
   "id": "c7717828-5d8a-4bea-a3b9-01d257b4d6eb",
   "metadata": {},
   "outputs": [
    {
     "data": {
      "text/plain": [
       "Python, 32 years old, has the following titles: Letargicus"
      ]
     },
     "execution_count": 34,
     "metadata": {},
     "output_type": "execute_result"
    }
   ],
   "source": [
    "python"
   ]
  },
  {
   "cell_type": "markdown",
   "id": "adbf45b7-68a8-48e8-b373-982e70140744",
   "metadata": {},
   "source": [
    "***Retornos múltiples***"
   ]
  },
  {
   "cell_type": "code",
   "execution_count": 35,
   "id": "dfcd70fa-48a4-4f9a-932d-75b2dd5d89b9",
   "metadata": {},
   "outputs": [
    {
     "data": {
      "text/plain": [
       "add_multiply (generic function with 1 method)"
      ]
     },
     "execution_count": 35,
     "metadata": {},
     "output_type": "execute_result"
    }
   ],
   "source": [
    "function add_multiply(x,y)\n",
    "    add = x + y\n",
    "    mul = x * y\n",
    "    return add,mul\n",
    "end"
   ]
  },
  {
   "cell_type": "code",
   "execution_count": 36,
   "id": "fd4f4d8b-62f7-4db5-b62e-bca3acf3d0fd",
   "metadata": {},
   "outputs": [
    {
     "data": {
      "text/plain": [
       "2"
      ]
     },
     "execution_count": 36,
     "metadata": {},
     "output_type": "execute_result"
    }
   ],
   "source": [
    "return_1, return_2 = add_multiply(1,2)\n",
    "return_2"
   ]
  },
  {
   "cell_type": "code",
   "execution_count": 37,
   "id": "77f17111-a518-4cd1-9a3f-0b0255915478",
   "metadata": {},
   "outputs": [
    {
     "data": {
      "text/plain": [
       "(3, 2)"
      ]
     },
     "execution_count": 37,
     "metadata": {},
     "output_type": "execute_result"
    }
   ],
   "source": [
    "all_returns = add_multiply(1,2)"
   ]
  },
  {
   "cell_type": "code",
   "execution_count": 43,
   "id": "45b7e042-a9a9-4647-a649-17b918942df7",
   "metadata": {},
   "outputs": [
    {
     "data": {
      "text/plain": [
       "2"
      ]
     },
     "execution_count": 43,
     "metadata": {},
     "output_type": "execute_result"
    }
   ],
   "source": [
    "last(all_returns)"
   ]
  },
  {
   "cell_type": "markdown",
   "id": "250d0a0e-830c-4c0e-8bf1-8523b7fe8492",
   "metadata": {},
   "source": [
    "***Argumentos keyword***\n",
    "\n",
    "Los argumentos keyword son como los argumentos regulares (o posicionales), salvo que están definidos después de los argumentos regulares de la función, y están separados por un punto y coma `;`."
   ]
  },
  {
   "cell_type": "code",
   "execution_count": 45,
   "id": "fe296c50-2eea-464b-b0ae-72837effef9b",
   "metadata": {},
   "outputs": [
    {
     "data": {
      "text/plain": [
       "logarithm (generic function with 1 method)"
      ]
     },
     "execution_count": 45,
     "metadata": {},
     "output_type": "execute_result"
    }
   ],
   "source": [
    "function logarithm(x::Real; base::Real=2.7182818284590)\n",
    "    return log(base, x)\n",
    "end"
   ]
  },
  {
   "cell_type": "code",
   "execution_count": 46,
   "id": "780348da-f894-49ca-b362-72df997d7b20",
   "metadata": {},
   "outputs": [
    {
     "data": {
      "text/plain": [
       "2.3025850929940845"
      ]
     },
     "execution_count": 46,
     "metadata": {},
     "output_type": "execute_result"
    }
   ],
   "source": [
    "logarithm(10)"
   ]
  },
  {
   "cell_type": "code",
   "execution_count": 47,
   "id": "ba0c6f48-2a5c-4229-8351-0a08ac00ff63",
   "metadata": {},
   "outputs": [
    {
     "data": {
      "text/plain": [
       "3.3219280948873626"
      ]
     },
     "execution_count": 47,
     "metadata": {},
     "output_type": "execute_result"
    }
   ],
   "source": [
    "logarithm(10; base=2)"
   ]
  },
  {
   "cell_type": "markdown",
   "id": "adc4744b-bb20-4965-b0c8-f054c7ea6448",
   "metadata": {},
   "source": [
    "***Funciones anónimas***\n",
    "Las funciones anónimas se construyen haciendo uso del operador `->`."
   ]
  },
  {
   "cell_type": "code",
   "execution_count": 48,
   "id": "91bf11fa-4b90-42db-a13d-c1319c5ead80",
   "metadata": {},
   "outputs": [
    {
     "data": {
      "text/plain": [
       "2.0"
      ]
     },
     "execution_count": 48,
     "metadata": {},
     "output_type": "execute_result"
    }
   ],
   "source": [
    "map(x->2.7182818284590^x,logarithm(2))"
   ]
  },
  {
   "cell_type": "markdown",
   "id": "60ca7929-2e2b-47ce-a30c-59f9bd696c21",
   "metadata": {},
   "source": [
    "***Condicionales***"
   ]
  },
  {
   "cell_type": "code",
   "execution_count": 50,
   "id": "6dbb6048-cff4-4bf3-9e86-e9b5d6b982d8",
   "metadata": {},
   "outputs": [
    {
     "data": {
      "text/plain": [
       "compare (generic function with 1 method)"
      ]
     },
     "execution_count": 50,
     "metadata": {},
     "output_type": "execute_result"
    }
   ],
   "source": [
    "a = 1\n",
    "b = 2\n",
    "function compare(a,b)\n",
    "    if a < b\n",
    "        \"a is less than b\"\n",
    "    elseif a > b\n",
    "        \"a is greater than b\"\n",
    "    else\n",
    "        \"a is equal to b\"\n",
    "    end\n",
    "end"
   ]
  },
  {
   "cell_type": "code",
   "execution_count": 51,
   "id": "0dda7412-22c1-4545-88df-b2aa22db17c0",
   "metadata": {},
   "outputs": [
    {
     "data": {
      "text/plain": [
       "\"a is less than b\""
      ]
     },
     "execution_count": 51,
     "metadata": {},
     "output_type": "execute_result"
    }
   ],
   "source": [
    "compare(1,2)"
   ]
  },
  {
   "cell_type": "code",
   "execution_count": 52,
   "id": "54bbad22-6424-46ae-9b32-f10402dacc54",
   "metadata": {},
   "outputs": [
    {
     "data": {
      "text/plain": [
       "\"a is equal to b\""
      ]
     },
     "execution_count": 52,
     "metadata": {},
     "output_type": "execute_result"
    }
   ],
   "source": [
    "compare(3.14,3.14)"
   ]
  },
  {
   "cell_type": "code",
   "execution_count": 55,
   "id": "05080d13-eb93-44b9-beae-92db4b4e0a26",
   "metadata": {},
   "outputs": [
    {
     "name": "stdout",
     "output_type": "stream",
     "text": [
      "1\n",
      "2\n",
      "3\n",
      "4\n",
      "5\n",
      "6\n",
      "7\n",
      "8\n",
      "9\n",
      "10\n"
     ]
    }
   ],
   "source": [
    "# Bucle for\n",
    "for i in 1:10\n",
    "    println(i)\n",
    "end"
   ]
  },
  {
   "cell_type": "code",
   "execution_count": 57,
   "id": "df0d3adf-2768-4030-bee5-99797c491a89",
   "metadata": {},
   "outputs": [
    {
     "ename": "LoadError",
     "evalue": "UndefVarError: `i` not defined",
     "output_type": "error",
     "traceback": [
      "UndefVarError: `i` not defined",
      ""
     ]
    }
   ],
   "source": [
    "i # No está definido i en el scope global!"
   ]
  },
  {
   "cell_type": "code",
   "execution_count": 56,
   "id": "bdd81262-2502-4512-a197-6905d44bedaa",
   "metadata": {},
   "outputs": [
    {
     "data": {
      "text/plain": [
       "3"
      ]
     },
     "execution_count": 56,
     "metadata": {},
     "output_type": "execute_result"
    }
   ],
   "source": [
    "# Bucle while\n",
    "n = 0\n",
    "while n < 3\n",
    "    global n += 1 # Así n está en el global scope\n",
    "end\n",
    "\n",
    "n"
   ]
  }
 ],
 "metadata": {
  "kernelspec": {
   "display_name": "Julia 1.9.0",
   "language": "julia",
   "name": "julia-1.9"
  },
  "language_info": {
   "file_extension": ".jl",
   "mimetype": "application/julia",
   "name": "julia",
   "version": "1.9.0"
  }
 },
 "nbformat": 4,
 "nbformat_minor": 5
}
