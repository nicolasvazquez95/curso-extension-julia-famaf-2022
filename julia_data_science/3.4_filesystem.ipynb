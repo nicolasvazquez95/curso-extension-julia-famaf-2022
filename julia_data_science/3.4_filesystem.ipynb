{
 "cells": [
  {
   "cell_type": "markdown",
   "id": "7007b75f-05c4-419a-b35d-db35e33f37c4",
   "metadata": {},
   "source": [
    "Julia tiene hablidades para manejar las diferencias entre los paths de distintos sistemas operativos.\n",
    "Se puede obtener la locación del archivo script mediante\n",
    "```Julia\n",
    "root = dirname(@__FILE__)\n",
    "```\n",
    "\n",
    "Supongamos que tenemos un script `my_script.jl` en nuestra carpeta de directorio. El path al archivo se puede obtener como\n",
    "```Julia\n",
    "joinpath(root, \"my_script.jl\")\n",
    "```\n",
    "\n",
    "`joinpath` también acepta subcarpetas:\n",
    "\n",
    "```Julia\n",
    "joinpath(root, \"data\", \"my_data.csv\")\n",
    "```"
   ]
  }
 ],
 "metadata": {
  "kernelspec": {
   "display_name": "Julia 1.9.0",
   "language": "julia",
   "name": "julia-1.9"
  },
  "language_info": {
   "file_extension": ".jl",
   "mimetype": "application/julia",
   "name": "julia",
   "version": "1.9.0"
  }
 },
 "nbformat": 4,
 "nbformat_minor": 5
}
